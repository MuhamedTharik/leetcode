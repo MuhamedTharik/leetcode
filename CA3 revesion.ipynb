{
 "cells": [
  {
   "cell_type": "code",
   "execution_count": null,
   "id": "2b29eb18-7836-46bb-820f-713def1d01c8",
   "metadata": {},
   "outputs": [],
   "source": [
    "#splitting\n",
    "from sklearn.model_selection import train_test_split\n",
    "x_train,x_test,y_train,y_test = train_test_split(x,y,test_size=0.2,random_state=0)"
   ]
  },
  {
   "cell_type": "code",
   "execution_count": null,
   "id": "d5bbffce-362a-4bf0-ba5b-8cd4c8c389c5",
   "metadata": {},
   "outputs": [],
   "source": [
    "#OneHotEncoding\n",
    "from sklearn.compose import CloumnTransformer\n",
    "from sklearn.preprocessing import OneHotEncoder\n",
    "ct = ColumnTransformer(transformers=(['encoding',OneHotEncoder(),[3]],remainder=\"passthrough\")\n",
    "x=np.array(ct.fit_transform(x))"
   ]
  },
  {
   "cell_type": "code",
   "execution_count": null,
   "id": "a541b6b8-daed-4f5b-974f-43f959ef8b70",
   "metadata": {},
   "outputs": [],
   "source": [
    "#linear regression\n",
    "from sklearn.linear_model import LinearRegression\n",
    "regressor = LinearRegression()\n",
    "regressor.fit(x_train,y_train)"
   ]
  },
  {
   "cell_type": "code",
   "execution_count": null,
   "id": "60ee730f-24a6-404f-891b-bdbb2b9d384b",
   "metadata": {},
   "outputs": [],
   "source": [
    "#prediciting linear regression\n",
    "regressor.predict(x_test)\n",
    "#predicting for multiple linear regression\n",
    "regressor.predict(x_test)\n",
    "np.printoptions(precision=2)\n",
    "print(np.concatenate((y_pred.reshape(len(y_pred),1),y_test.reshape(len(y_test),1)),1))"
   ]
  },
  {
   "cell_type": "code",
   "execution_count": null,
   "id": "d95f3ebf-d54d-4896-a4f5-d1d801193bb7",
   "metadata": {},
   "outputs": [],
   "source": [
    "#multiple linear regression\n",
    "np.printoptions(precision=2)\n",
    "print(np.concatenate((y_pred.reshape(len(y_pred),1),y_test.reshape(len(y_test),1)),1))"
   ]
  },
  {
   "cell_type": "code",
   "execution_count": null,
   "id": "5a1023c5-06a5-46df-9e9e-18d2534e5e81",
   "metadata": {},
   "outputs": [],
   "source": [
    "#polynomail regression\n",
    "from sklearn.linear_model import LinearRegression\n",
    "from sklearn.preprocessing import PolynomialFeatures\n",
    "poly_reg = PolynomailFeatures(degree=4)\n",
    "x_poly = poly_reg.fit_transform(x)\n",
    "lin_reg = LinearRegression()\n",
    "lin_reg.fit(x_poly,y)"
   ]
  },
  {
   "cell_type": "code",
   "execution_count": null,
   "id": "a301657a-912f-43f2-971d-ffad23e10ef4",
   "metadata": {},
   "outputs": [],
   "source": [
    "#predicting result\n",
    "lin_reg.predict(poly_reg.fit_transform([[6.5]])"
   ]
  },
  {
   "cell_type": "code",
   "execution_count": null,
   "id": "2cc0454b-4d2b-4ed0-b757-4e221ed7cc3c",
   "metadata": {},
   "outputs": [],
   "source": [
    "#logistic regression\n",
    "# feature scaling\n",
    "from sklearn.preprocessing import StandardScaler\n",
    "sc = StandardScaler()\n",
    "x_train = sc.fit_transform(x_train)\n",
    "x_test = sc.fit(x_test)\n",
    "\n",
    "from sklearn.linear_model import LogisticRegression\n",
    "classifier = LogisticRegression(random_state=0)\n",
    "classifier.fit(x_train,y_train)\n",
    "\n",
    "#predicitng result\n",
    "classifier.predict(sc.fit_transform([[35,50000]])                "
   ]
  },
  {
   "cell_type": "code",
   "execution_count": null,
   "id": "e885da13-eed7-4261-8c06-6ae47d8d6963",
   "metadata": {},
   "outputs": [],
   "source": [
    "#KNN\n",
    "from sklearn.neighbors import KNeighborsClassifier\n",
    "classifier = KNeighborsClassifier(n_neighbors=5,metric-'minkowski',p=2)\n",
    "classifier.fit(x_train,y_train)\n",
    "#predicting result\n",
    "print(classifier.predict(sc.fit_transform([[30,87000]])))"
   ]
  },
  {
   "cell_type": "code",
   "execution_count": null,
   "id": "1a85f971-8019-49eb-9dc3-5b488aaa8d4e",
   "metadata": {},
   "outputs": [],
   "source": [
    "#making confusion matrix and accuracy score\n",
    "from sklearn.metrics import confusion_matrix, accuracy_score\n",
    "cm = confusion_matrix(y_test,y_pred)\n",
    "print(cm)\n",
    "ac = accuracy_score(y_test,y_pred)*100"
   ]
  },
  {
   "cell_type": "code",
   "execution_count": null,
   "id": "e9e7f118-73e4-4c20-a520-915d54cfcf6d",
   "metadata": {},
   "outputs": [],
   "source": [
    "#Naive bayes\n",
    "from sklearn.naive_bayes import GuassainNB\n",
    "classifier = GuassiaNB()\n",
    "classifier.fit(x_train,y_train)"
   ]
  }
 ],
 "metadata": {
  "kernelspec": {
   "display_name": "Python 3 (ipykernel)",
   "language": "python",
   "name": "python3"
  },
  "language_info": {
   "codemirror_mode": {
    "name": "ipython",
    "version": 3
   },
   "file_extension": ".py",
   "mimetype": "text/x-python",
   "name": "python",
   "nbconvert_exporter": "python",
   "pygments_lexer": "ipython3",
   "version": "3.11.7"
  }
 },
 "nbformat": 4,
 "nbformat_minor": 5
}
